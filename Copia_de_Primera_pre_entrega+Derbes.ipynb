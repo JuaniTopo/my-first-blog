{
  "nbformat": 4,
  "nbformat_minor": 0,
  "metadata": {
    "colab": {
      "provenance": [],
      "mount_file_id": "1wmpNQESouV-XZMsBLHiF5rn_fZpVkfSd",
      "authorship_tag": "ABX9TyPAx2k6Bxu1nI5VlgFGul3X",
      "include_colab_link": true
    },
    "kernelspec": {
      "name": "python3",
      "display_name": "Python 3"
    },
    "language_info": {
      "name": "python"
    }
  },
  "cells": [
    {
      "cell_type": "markdown",
      "metadata": {
        "id": "view-in-github",
        "colab_type": "text"
      },
      "source": [
        "<a href=\"https://colab.research.google.com/github/JuaniTopo/my-first-blog/blob/master/Copia_de_Primera_pre_entrega%2BDerbes.ipynb\" target=\"_parent\"><img src=\"https://colab.research.google.com/assets/colab-badge.svg\" alt=\"Open In Colab\"/></a>"
      ]
    },
    {
      "cell_type": "markdown",
      "source": [
        "CONSIGNA: \n",
        "\n",
        "Objetivo: practicar el concepto de funciones.\n",
        "Consigna: crear un programa que permita emular el registro y almacenamiento de usuarios en una base de datos (diccionario) Crear el programa utilizando el concepto de funciones, diccionarios, bucles y condicionales. \n",
        "Formato: nombre de archivo Primera pre-entrega+Apellido\n",
        "\n",
        "Se debe entregar todo el programa \n",
        "- Sugerencias: \n",
        "* El formato de registro es \"nombre de usuario\" y \"contraseña\"\n",
        "* Utilizar una función para almacenar la info y otra para mostrarla.\n",
        "* Utiliza un diccionario para almacenar la info, con el par clave-valor (Usuario-Contraseña)\n",
        "* Utilizar otra función para el login de users, comprobando que la contraseña coincida con el user. \n",
        "\n",
        "Adicional: \n",
        "\n",
        "Utilizando los conceptos de la clase 8, guarde la infomación en un archivo de texto dentro de su drive. "
      ],
      "metadata": {
        "id": "w6VVYtuOBL8y"
      }
    },
    {
      "cell_type": "code",
      "source": [
        "print(\"Bienvenidx a mi primer entrega de Coder :)\")\n",
        "usuarios = {}"
      ],
      "metadata": {
        "id": "QJlhI9Nq0MOp",
        "colab": {
          "base_uri": "https://localhost:8080/"
        },
        "outputId": "b1a64429-cdff-4c08-c457-fdefedb7546d"
      },
      "execution_count": 1,
      "outputs": [
        {
          "output_type": "stream",
          "name": "stdout",
          "text": [
            "Bienvenidx a mi primer entrega de Coder :)\n"
          ]
        }
      ]
    },
    {
      "cell_type": "code",
      "source": [
        "def registrar_usuario(usuario, contraseña):\n",
        "  with open(\"listausuarios.txt\", \"a\") as f:\n",
        "    f.write(usuario + \",\" + contraseña + \"\\n\")\n",
        "  usuarios.update({usuario:contraseña})\n",
        "  "
      ],
      "metadata": {
        "id": "vbb9G7uy5sdz"
      },
      "execution_count": 2,
      "outputs": []
    },
    {
      "cell_type": "code",
      "source": [
        "def menu():\n",
        "  print(\"\\t1 - Registrar Usuario\")\n",
        "  print(\"\\t2 - Loguearme\")\n",
        "  print(\"\\t3 - Mostrar usuarios\")\n",
        "  print(\"\\t4 - salir\")\n",
        "  opción = input(\"Por favor seleccioná una opción: \")\n",
        "  return opción\n",
        "\n",
        "menu()"
      ],
      "metadata": {
        "colab": {
          "base_uri": "https://localhost:8080/",
          "height": 122
        },
        "id": "xkHTT7ZnAh6t",
        "outputId": "b0691e9f-b374-4829-d359-c43442581551"
      },
      "execution_count": 12,
      "outputs": [
        {
          "name": "stdout",
          "output_type": "stream",
          "text": [
            "\t1 - Registrar Usuario\n",
            "\t2 - Loguearme\n",
            "\t3 - Mostrar usuarios\n",
            "\t4 - salir\n",
            "Por favor seleccioná una opción: 1\n"
          ]
        },
        {
          "output_type": "execute_result",
          "data": {
            "text/plain": [
              "'1'"
            ],
            "application/vnd.google.colaboratory.intrinsic+json": {
              "type": "string"
            }
          },
          "metadata": {},
          "execution_count": 12
        }
      ]
    },
    {
      "cell_type": "code",
      "source": [
        "while True:\n",
        "    programa = menu()\n",
        "    if programa == \"1\":\n",
        "      programa = para_menu_registro\n",
        "    elif programa ==\"2\":\n",
        "      programa = para_menu_login\n",
        "    elif programa ==\"3\":\n",
        "      programa = print(usuarios)\n",
        "    elif programa ==\"4\":\n",
        "      print(f\"Chau!\")\n",
        "      break   "
      ],
      "metadata": {
        "colab": {
          "base_uri": "https://localhost:8080/",
          "height": 321
        },
        "id": "K9YGcDZaEyrE",
        "outputId": "787a8c73-03fb-45f7-83a6-f684b349c6fb"
      },
      "execution_count": 16,
      "outputs": [
        {
          "name": "stdout",
          "output_type": "stream",
          "text": [
            "\t1 - Registrar Usuario\n",
            "\t2 - Loguearme\n",
            "\t3 - Mostrar usuarios\n",
            "\t4 - salir\n",
            "Por favor seleccioná una opción: 1\n"
          ]
        },
        {
          "output_type": "error",
          "ename": "NameError",
          "evalue": "ignored",
          "traceback": [
            "\u001b[0;31m---------------------------------------------------------------------------\u001b[0m",
            "\u001b[0;31mNameError\u001b[0m                                 Traceback (most recent call last)",
            "\u001b[0;32m<ipython-input-16-9d860c7a5f5a>\u001b[0m in \u001b[0;36m<module>\u001b[0;34m\u001b[0m\n\u001b[1;32m      2\u001b[0m     \u001b[0mprograma\u001b[0m \u001b[0;34m=\u001b[0m \u001b[0mmenu\u001b[0m\u001b[0;34m(\u001b[0m\u001b[0;34m)\u001b[0m\u001b[0;34m\u001b[0m\u001b[0;34m\u001b[0m\u001b[0m\n\u001b[1;32m      3\u001b[0m     \u001b[0;32mif\u001b[0m \u001b[0mprograma\u001b[0m \u001b[0;34m==\u001b[0m \u001b[0;34m\"1\"\u001b[0m\u001b[0;34m:\u001b[0m\u001b[0;34m\u001b[0m\u001b[0;34m\u001b[0m\u001b[0m\n\u001b[0;32m----> 4\u001b[0;31m       \u001b[0mprograma\u001b[0m \u001b[0;34m=\u001b[0m \u001b[0mpara_menu_registro\u001b[0m\u001b[0;34m\u001b[0m\u001b[0;34m\u001b[0m\u001b[0m\n\u001b[0m\u001b[1;32m      5\u001b[0m     \u001b[0;32melif\u001b[0m \u001b[0mprograma\u001b[0m \u001b[0;34m==\u001b[0m\u001b[0;34m\"2\"\u001b[0m\u001b[0;34m:\u001b[0m\u001b[0;34m\u001b[0m\u001b[0;34m\u001b[0m\u001b[0m\n\u001b[1;32m      6\u001b[0m       \u001b[0mprograma\u001b[0m \u001b[0;34m=\u001b[0m \u001b[0mpara_menu_login\u001b[0m\u001b[0;34m\u001b[0m\u001b[0;34m\u001b[0m\u001b[0m\n",
            "\u001b[0;31mNameError\u001b[0m: name 'para_menu_registro' is not defined"
          ]
        }
      ]
    },
    {
      "cell_type": "code",
      "source": [
        "def cargar_usuario():\n",
        "  usuario_ingresado_correcto = False\n",
        "  print(\"Por favor coloque un nombre de usuario, el mismo tiene que tener entre 7 y 10 caracteres. Usuario: \")\n",
        "  while not usuario_ingresado_correcto: \n",
        "    usuario = input()\n",
        "    if len(usuario) < 7:\n",
        "        print(\"Recordá que tu nombre de usuario que tiene que tener entre 7 y 10 caracteres\")\n",
        "    elif len(usuario) > 10:\n",
        "        print(\"Tu nombre de usuario no puede tener más de 10 caracteres\")\n",
        "    else:\n",
        "      print(\"Nombre de usuario ingresado correctamente\")\n",
        "      usuario_ingresado_correcto = True\n",
        "      return usuario\n"
      ],
      "metadata": {
        "id": "bfBPx9QiCn_L"
      },
      "execution_count": null,
      "outputs": []
    },
    {
      "cell_type": "code",
      "source": [
        "def login_usuario(usuario, contraseña):\n",
        "  contraseña_guardada = usuarios.get(usuario)\n",
        "  if not contraseña_guardada:\n",
        "    print(\"El usuario no existe\")\n",
        "  if contraseña_guardada != contraseña:\n",
        "    print(\"Contraseña incorrecta\")\n",
        "  else:\n",
        "    print(\"Te logueaste correctamente :D\")\n",
        "    return usuarios"
      ],
      "metadata": {
        "id": "LKMX0wY86Qs5"
      },
      "execution_count": null,
      "outputs": []
    },
    {
      "cell_type": "code",
      "source": [
        "def cargar_contraseña():\n",
        "  contraseña_ingresada_correcto = False\n",
        "  print(\"Por favor coloque una contraseña: \")\n",
        "  while not contraseña_ingresada_correcto:\n",
        "    contraseña = input()\n",
        "    if len(contraseña) < 7:\n",
        "      print(\"Recordá que tu contraseña que tiene que tener entre 7 y 10 caracteres\")\n",
        "    elif len(contraseña) > 10:\n",
        "      print(\"Tu contraseña no puede tener más de 10 caracteres\")\n",
        "    else:\n",
        "      print(\"contraseña ingresada correctamente\")\n",
        "      contraseña_ingresada_correcto = True\n",
        "      return contraseña"
      ],
      "metadata": {
        "id": "oqLPEk997jdv"
      },
      "execution_count": null,
      "outputs": []
    },
    {
      "cell_type": "code",
      "source": [
        "def para_menu_registro():\n",
        "  usuario = cargar_usuario()\n",
        "  contraseña = cargar_contraseña()\n",
        "  registrar_usuario(usuario, contraseña)\n",
        "  print(\"Gracias por registrarte\", usuario)\n",
        "\n",
        "para_menu_registro()\n",
        "  "
      ],
      "metadata": {
        "id": "SLP7UoSA7o3e"
      },
      "execution_count": null,
      "outputs": []
    },
    {
      "cell_type": "code",
      "source": [
        "def para_menu_login():\n",
        "  usuario = cargar_usuario()\n",
        "  contraseña = cargar_contraseña()\n",
        "  login_usuario(usuario, contraseña)\n",
        "\n",
        "para_menu_login()"
      ],
      "metadata": {
        "id": "_KZkqOMG3AlC"
      },
      "execution_count": null,
      "outputs": []
    },
    {
      "cell_type": "code",
      "source": [
        "def registro_usuarios():\n",
        "    lista_usuarios = []\n",
        "    with open('listausuarios.txt', 'r') as f:\n",
        "        contenido = f.read().strip()\n",
        "        f.close()\n",
        "    usuarios_txt = contenido.split(\"\\n\")\n",
        "    for string in usuarios_txt:\n",
        "        usuario = string.split(\",\")\n",
        "        print(usuario[0] + \",\" + usuario[1])\n",
        "        return usuarios\n",
        "\n",
        "registro_usuarios()"
      ],
      "metadata": {
        "id": "1z--Y-MH8Rrj"
      },
      "execution_count": null,
      "outputs": []
    },
    {
      "cell_type": "code",
      "source": [
        "print(usuarios)"
      ],
      "metadata": {
        "id": "CuXMoARQ4_LB"
      },
      "execution_count": null,
      "outputs": []
    }
  ]
}