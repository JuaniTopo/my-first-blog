{
  "nbformat": 4,
  "nbformat_minor": 0,
  "metadata": {
    "colab": {
      "provenance": [],
      "include_colab_link": true
    },
    "kernelspec": {
      "name": "python3",
      "display_name": "Python 3"
    },
    "language_info": {
      "name": "python"
    }
  },
  "cells": [
    {
      "cell_type": "markdown",
      "metadata": {
        "id": "view-in-github",
        "colab_type": "text"
      },
      "source": [
        "<a href=\"https://colab.research.google.com/github/JuaniTopo/my-first-blog/blob/master/Copia_de_Primera_pre_entrega%2BDerbes.ipynb\" target=\"_parent\"><img src=\"https://colab.research.google.com/assets/colab-badge.svg\" alt=\"Open In Colab\"/></a>"
      ]
    },
    {
      "cell_type": "markdown",
      "source": [
        "CONSIGNA: \n",
        "\n",
        "Objetivo: practicar el concepto de funciones.\n",
        "Consigna: crear un programa que permita emular el registro y almacenamiento de usuarios en una base de datos (diccionario) Crear el programa utilizando el concepto de funciones, diccionarios, bucles y condicionales. \n",
        "Formato: nombre de archivo Primera pre-entrega+Apellido\n",
        "\n",
        "Se debe entregar todo el programa \n",
        "- Sugerencias: \n",
        "* El formato de registro es \"nombre de usuario\" y \"contraseña\"\n",
        "* Utilizar una función para almacenar la info y otra para mostrarla.\n",
        "* Utiliza un diccionario para almacenar la info, con el par clave-valor (Usuario-Contraseña)\n",
        "* Utilizar otra función para el login de users, comprobando que la contraseña coincida con el user. \n",
        "\n",
        "Adicional: \n",
        "\n",
        "Utilizando los conceptos de la clase 8, guarde la infomación en un archivo de texto dentro de su drive. "
      ],
      "metadata": {
        "id": "w6VVYtuOBL8y"
      }
    },
    {
      "cell_type": "code",
      "source": [
        "usuarios = {}"
      ],
      "metadata": {
        "id": "QJlhI9Nq0MOp"
      },
      "execution_count": 12,
      "outputs": []
    },
    {
      "cell_type": "code",
      "source": [
        "def registrar_usuario(usuario, contraseña):\n",
        "  with open(\"listausuarios.txt\", \"a\") as f:\n",
        "    f.write(usuario + \",\" + contraseña)\n",
        "  usuarios.update({usuario:contraseña})"
      ],
      "metadata": {
        "id": "vbb9G7uy5sdz"
      },
      "execution_count": 13,
      "outputs": []
    },
    {
      "cell_type": "code",
      "source": [
        "def login_usuario(usuario, contraseña):\n",
        "  contraseña_guardada = usuarios.get(usuario)\n",
        "  if not contraseña_guardada:\n",
        "    print(\"El usuario no existe\")\n",
        "  if contraseña_guardada != contraseña:\n",
        "    print(\"Contraseña incorrecta\")\n",
        "  else:\n",
        "    print(\"Te logueaste correctamente :D\")"
      ],
      "metadata": {
        "id": "LKMX0wY86Qs5"
      },
      "execution_count": 14,
      "outputs": []
    },
    {
      "cell_type": "code",
      "source": [
        "def cargar_usuario():\n",
        "  usuario_ingresado_correcto = False\n",
        "  print(\"Por favor coloque un nombre de usuario, el mismo tiene que tener entre 7 y 10 caracteres. Usuario: \")\n",
        "  while not usuario_ingresado_correcto: \n",
        "    usuario = input()\n",
        "    if len(usuario) < 7:\n",
        "        print(\"Recordá que tu nombre de usuario que tiene que tener entre 7 y 10 caracteres\")\n",
        "    elif len(usuario) > 10:\n",
        "        print(\"Tu nombre de usuario no puede tener más de 10 caracteres\")\n",
        "    else:\n",
        "      print(\"Nombre de usuario ingresado correctamente\")\n",
        "      usuario_ingresado_correcto = True\n",
        "      return usuario\n"
      ],
      "metadata": {
        "id": "bfBPx9QiCn_L"
      },
      "execution_count": 15,
      "outputs": []
    },
    {
      "cell_type": "code",
      "source": [
        "def cargar_contraseña():\n",
        "  contraseña_ingresada_correcto = False\n",
        "  print(\"Por favor coloque una contraseña: \")\n",
        "  while not contraseña_ingresada_correcto:\n",
        "    contraseña = input()\n",
        "    if len(contraseña) < 7:\n",
        "      print(\"Recordá que tu contraseña que tiene que tener entre 7 y 10 caracteres\")\n",
        "    elif len(contraseña) > 10:\n",
        "      print(\"Tu contraseña no puede tener más de 10 caracteres\")\n",
        "    else:\n",
        "      print(\"contraseña ingresada correctamente\")\n",
        "      contraseña_ingresada_correcto = True\n",
        "      return contraseña"
      ],
      "metadata": {
        "id": "oqLPEk997jdv"
      },
      "execution_count": 16,
      "outputs": []
    },
    {
      "cell_type": "code",
      "source": [
        "def para_menu_registro():\n",
        "\n",
        "  usuario = cargar_usuario()\n",
        "  contraseña = cargar_contraseña()\n",
        "  registrar_usuario(usuario, contraseña)\n",
        "  print(\"Gracias por registrarte\")\n",
        "\n",
        "para_menu_registro()"
      ],
      "metadata": {
        "id": "SLP7UoSA7o3e",
        "colab": {
          "base_uri": "https://localhost:8080/"
        },
        "outputId": "9e490cdd-d99a-4ddc-c1fe-4084ab9e8751"
      },
      "execution_count": 20,
      "outputs": [
        {
          "output_type": "stream",
          "name": "stdout",
          "text": [
            "Por favor coloque un nombre de usuario, el mismo tiene que tener entre 7 y 10 caracteres. Usuario: \n",
            "Angelito\n",
            "Nombre de usuario ingresado correctamente\n",
            "Por favor coloque una contraseña: \n",
            "Freiresss\n",
            "contraseña ingresada correctamente\n",
            "Gracias por registrarte\n"
          ]
        }
      ]
    },
    {
      "cell_type": "code",
      "source": [
        "def para_menu_login():\n",
        "\n",
        "  usuario = cargar_usuario()\n",
        "  contraseña = cargar_contraseña()\n",
        "  login_usuario(usuario, contraseña)\n",
        "\n",
        "para_menu_login()"
      ],
      "metadata": {
        "id": "_KZkqOMG3AlC",
        "colab": {
          "base_uri": "https://localhost:8080/"
        },
        "outputId": "04fcb1ec-c22b-41e2-b2a6-3c2bcbd10b74"
      },
      "execution_count": 21,
      "outputs": [
        {
          "output_type": "stream",
          "name": "stdout",
          "text": [
            "Por favor coloque un nombre de usuario, el mismo tiene que tener entre 7 y 10 caracteres. Usuario: \n",
            "Angelito\n",
            "Nombre de usuario ingresado correctamente\n",
            "Por favor coloque una contraseña: \n",
            "Freiresss\n",
            "contraseña ingresada correctamente\n",
            "Te logueaste correctamente :D\n"
          ]
        }
      ]
    },
    {
      "cell_type": "code",
      "source": [
        "def registro_usuarios():\n",
        "    lista_usuarios = []\n",
        "    with open('listausuarios.txt', 'r') as f:\n",
        "        contenido = f.read()\n",
        "        f.close()\n",
        "    usuarios_txt = contenido.split(\"\\n\")\n",
        "    for string in usuarios_txt:\n",
        "        usuario = string.split(\",\")\n",
        "        print(usuario[0] + \",\" + usuario[1])\n",
        "\n",
        "registro_usuarios()"
      ],
      "metadata": {
        "id": "1z--Y-MH8Rrj",
        "colab": {
          "base_uri": "https://localhost:8080/"
        },
        "outputId": "6e419aec-01b2-4142-fc15-8127fd3cd1a7"
      },
      "execution_count": 22,
      "outputs": [
        {
          "output_type": "stream",
          "name": "stdout",
          "text": [
            "Juanasss,PeperinassPeperina\n"
          ]
        }
      ]
    },
    {
      "cell_type": "code",
      "source": [
        "print(usuarios)"
      ],
      "metadata": {
        "id": "CuXMoARQ4_LB",
        "colab": {
          "base_uri": "https://localhost:8080/"
        },
        "outputId": "2a418ee1-7ce2-46bf-f913-d09a05e738de"
      },
      "execution_count": 11,
      "outputs": [
        {
          "output_type": "stream",
          "name": "stdout",
          "text": [
            "{'Juanasss': 'Peperinass'}\n"
          ]
        }
      ]
    }
  ]
}